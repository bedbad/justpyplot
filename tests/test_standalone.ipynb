{
 "cells": [
  {
   "cell_type": "code",
   "execution_count": 1,
   "metadata": {},
   "outputs": [
    {
     "data": {
      "image/png": "[encoded data removed]",
      "text/plain": [
       "<IPython.core.display.Image object>"
      ]
     },
     "metadata": {},
     "output_type": "display_data"
    }
   ],
   "source": [
    "import numpy as np\n",
    "from IPython.display import Image as ipyImage,  display\n",
    "from justpyplot import justpyplot as jplt\n",
    "# Make some dependency data\n",
    "x = np.linspace(0, 10, 50)\n",
    "y = np.sin(x)\n",
    "# Just plot in numpy using the plot() function\n",
    "figure_img, grid_img, labels_img, title_img = jplt.plot(\n",
    "    np.array([x, y]),\n",
    "    grid={'nticks': 10, 'color': (128, 128, 128, 255), 'label_color': (255, 0, 0, 255),'precision': 1, 'label_font_size': 0.9},\n",
    "    figure={'scatter':False,'point_color': (255, 0, 0, 255), 'point_radius':3, 'line_color':(0,64,64, 255), 'line_width': 2, 'marker_style':'circle'},\n",
    "    title='Sine Wave',\n",
    "    size=(300, 400),\n",
    "    max_len=100\n",
    ")\n",
    "#blend arrays into PIL picture buffer\n",
    "buffer = jplt.blend2PIL(grid_img, figure_img, labels_img, title_img, format='PNG')\n",
    "# Display the image\n",
    "display(ipyImage(buffer.getvalue()))"
   ]
  },
  {
   "cell_type": "code",
   "execution_count": null,
   "metadata": {},
   "outputs": [],
   "source": []
  }
 ],
 "metadata": {
  "kernelspec": {
   "display_name": "Python 3 (ipykernel)",
   "language": "python",
   "name": "python3"
  },
  "language_info": {
   "codemirror_mode": {
    "name": "ipython",
    "version": 3
   },
   "file_extension": ".py",
   "mimetype": "text/x-python",
   "name": "python",
   "nbconvert_exporter": "python",
   "pygments_lexer": "ipython3",
   "version": "3.12.5"
  }
 },
 "nbformat": 4,
 "nbformat_minor": 4
}
